{
 "cells": [
  {
   "cell_type": "code",
   "execution_count": null,
   "metadata": {},
   "outputs": [],
   "source": [
    "# 從github上複製資料夾到當前路徑\n",
    "!git clone https://github.com/brianshih95/Introduction-to-Machine-Learning.git"
   ]
  },
  {
   "cell_type": "code",
   "execution_count": null,
   "metadata": {},
   "outputs": [],
   "source": [
    "# 將當前路徑換成'Introduction-to-Machine-Learning/final_project'\n",
    "import os\n",
    "\n",
    "os.chdir(\"Introduction-to-Machine-Learning/final_project\")"
   ]
  },
  {
   "cell_type": "code",
   "execution_count": null,
   "metadata": {},
   "outputs": [],
   "source": [
    "# 可以更改test data和model的路徑\n",
    "test_folder = 'training/data/test'\n",
    "model_path = 'training/model.pt'"
   ]
  },
  {
   "cell_type": "code",
   "execution_count": null,
   "metadata": {},
   "outputs": [],
   "source": [
    "# 為了使ImageFolder正常作用，在test data資料夾中加入一個dummy資料夾，並將全部資料放進去\n",
    "import shutil\n",
    "\n",
    "dummy_folder = test_folder + '/dummy'\n",
    "if not os.path.exists(dummy_folder):\n",
    "    os.mkdir(dummy_folder)\n",
    "\n",
    "    jpg_files = [f for f in os.listdir(test_folder) if f.lower().endswith('.jpg')]\n",
    "\n",
    "    for jpg_file in jpg_files:\n",
    "        source_path = os.path.join(test_folder, jpg_file)\n",
    "        dest_path = os.path.join(dummy_folder, jpg_file)\n",
    "        shutil.move(source_path, dest_path)"
   ]
  },
  {
   "cell_type": "code",
   "execution_count": null,
   "metadata": {},
   "outputs": [],
   "source": [
    "import pandas as pd\n",
    "import torch\n",
    "import torch.nn as nn\n",
    "from torch.utils.data import DataLoader\n",
    "from torchvision import datasets, transforms, models\n",
    "from PIL import Image\n",
    "\n",
    "test_transform = transforms.Compose([\n",
    "    transforms.Resize(384, interpolation=Image.BICUBIC),\n",
    "    transforms.CenterCrop(384),\n",
    "    transforms.ToTensor(),\n",
    "    transforms.Normalize(mean=[0.485, 0.456, 0.406], std=[0.229, 0.224, 0.225])\n",
    "])\n",
    "\n",
    "val_dataset = datasets.ImageFolder('training/data/splited/valid', transform=test_transform)\n",
    "test_dataset = datasets.ImageFolder(test_folder, transform=test_transform)\n",
    "\n",
    "batch_size = 16\n",
    "num_workers = 2\n",
    "test_loader = DataLoader(test_dataset, batch_size=batch_size, shuffle=False, num_workers=num_workers)"
   ]
  },
  {
   "cell_type": "code",
   "execution_count": null,
   "metadata": {},
   "outputs": [],
   "source": [
    "model = models.regnet_y_32gf()\n",
    "num_classes = len(val_dataset.classes)\n",
    "model.fc = nn.Linear(model.fc.in_features, num_classes)\n",
    "model.load_state_dict(torch.load(model_path))   # Load pretrained weight\n",
    "\n",
    "device = torch.device(\"cuda\" if torch.cuda.is_available() else \"cpu\")\n",
    "model.to(device)\n",
    "\n",
    "model.eval()\n",
    "predictions = []\n",
    "with torch.no_grad():\n",
    "    for inputs, _ in test_loader:\n",
    "        inputs = inputs.to(device)\n",
    "        outputs = model(inputs)\n",
    "        _, predicted = torch.max(outputs, dim=1)\n",
    "        predictions.extend(predicted.cpu().numpy())\n",
    "\n",
    "file_names = [os.path.splitext(os.path.basename(path))[0]\n",
    "                for path, _ in test_dataset.imgs]\n",
    "class_labels = [os.path.basename(class_path)\n",
    "                for class_path in val_dataset.class_to_idx.keys()]\n",
    "predicted_labels = [class_labels[prediction] for prediction in predictions]\n",
    "\n",
    "# generate prediction file\n",
    "df = pd.DataFrame({'id': file_names, 'label': predicted_labels})\n",
    "df.to_csv('predictions.csv', index=False)"
   ]
  }
 ],
 "metadata": {
  "kernelspec": {
   "display_name": "Python 3",
   "language": "python",
   "name": "python3"
  },
  "language_info": {
   "codemirror_mode": {
    "name": "ipython",
    "version": 3
   },
   "file_extension": ".py",
   "mimetype": "text/x-python",
   "name": "python",
   "nbconvert_exporter": "python",
   "pygments_lexer": "ipython3",
   "version": "3.11.1"
  }
 },
 "nbformat": 4,
 "nbformat_minor": 2
}
