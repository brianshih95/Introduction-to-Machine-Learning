{
 "cells": [
  {
   "cell_type": "code",
   "execution_count": null,
   "metadata": {},
   "outputs": [],
   "source": [
    "import os\n",
    "import shutil\n",
    "import random\n",
    "\n",
    "train_folder = '../data/splited/train'\n",
    "valid_folder = '../data/splited/valid'\n",
    "\n",
    "bird_types = os.listdir(train_folder)\n",
    "\n",
    "for bird_type in bird_types:\n",
    "    bird_type_path_train = os.path.join(train_folder, bird_type)\n",
    "    bird_type_path_valid = os.path.join(valid_folder, bird_type)\n",
    "\n",
    "    if not os.path.exists(bird_type_path_valid):\n",
    "        os.makedirs(bird_type_path_valid)\n",
    "\n",
    "    images = os.listdir(bird_type_path_train)\n",
    "\n",
    "    num_images_valid = int(0.2 * len(images))\n",
    "\n",
    "    selected_images = random.sample(images, num_images_valid)\n",
    "\n",
    "    for image in selected_images:\n",
    "        src_path = os.path.join(bird_type_path_train, image)\n",
    "        dst_path = os.path.join(bird_type_path_valid, image)\n",
    "        shutil.copy(src_path, dst_path)\n",
    "        os.remove(src_path)\n"
   ]
  }
 ],
 "metadata": {
  "language_info": {
   "name": "python"
  }
 },
 "nbformat": 4,
 "nbformat_minor": 2
}
